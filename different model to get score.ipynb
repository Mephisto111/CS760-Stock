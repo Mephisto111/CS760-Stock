{
 "cells": [
  {
   "cell_type": "code",
   "execution_count": null,
   "id": "ada6a72e",
   "metadata": {},
   "outputs": [],
   "source": [
    "import pandas as pd\n",
    "from snownlp import SnowNLP\n",
    "import time\n",
    "\n",
    "file_path = 'sample.csv'\n",
    "data = pd.read_csv(file_path)\n",
    "\n",
    "# 函数：用于获取情绪及模拟的相关性得分\n",
    "def get_scores(comment):\n",
    "    s = SnowNLP(comment)\n",
    "    # 获取情感分数并转换为 -100 到 100 的范围\n",
    "    sentiment_score = (s.sentiments - 0.25) * 200\n",
    "    sentiment_score = round(sentiment_score)  \n",
    "    \n",
    "    relatedness_score = abs(sentiment_score) * 0.5  \n",
    "    relatedness_score = round(relatedness_score)  \n",
    "    \n",
    "    return f\"Sentiment score: {sentiment_score}\\nRelatedness: {relatedness_score}\"\n",
    "\n",
    "for index, row in data.iterrows():\n",
    "    print(f\"Processing comment {index + 1}/{len(data)}\")\n",
    "    response = get_scores(row['comment'])\n",
    "    data.at[index, 'Response'] = response\n",
    "    time.sleep(1)  \n",
    "\n",
    "output_path = 'mark.csv'\n",
    "data.to_csv(output_path, index=False)\n"
   ]
  },
  {
   "cell_type": "code",
   "execution_count": null,
   "id": "9e36b7ab",
   "metadata": {},
   "outputs": [],
   "source": [
    "import pandas as pd\n",
    "from textblob import TextBlob\n",
    "\n",
    "file_path = 'sample.csv'\n",
    "data = pd.read_csv(file_path)\n",
    "\n",
    "def get_scores(comment):\n",
    "    analysis = TextBlob(comment)\n",
    "    sentiment_score = analysis.sentiment.polarity * 100  \n",
    "    sentiment_score = round(sentiment_score)  \n",
    "\n",
    "    relatedness_score = abs(sentiment_score) * 0.5  \n",
    "    relatedness_score = round(relatedness_score)  \n",
    "\n",
    "    return f\"Sentiment score: {sentiment_score}\\nRelatedness: {relatedness_score}\"\n",
    "\n",
    "# 处理每条评论\n",
    "for index, row in data.iterrows():\n",
    "    print(f\"Processing comment {index + 1}/{len(data)}\")\n",
    "    data.at[index, 'Response'] = get_scores(row['comment'])\n",
    "\n",
    "# 保存结果\n",
    "output_path = 'mark.csv'\n",
    "data.to_csv(output_path, index=False)\n"
   ]
  }
 ],
 "metadata": {
  "kernelspec": {
   "display_name": "Python 3 (ipykernel)",
   "language": "python",
   "name": "python3"
  },
  "language_info": {
   "codemirror_mode": {
    "name": "ipython",
    "version": 3
   },
   "file_extension": ".py",
   "mimetype": "text/x-python",
   "name": "python",
   "nbconvert_exporter": "python",
   "pygments_lexer": "ipython3",
   "version": "3.11.7"
  }
 },
 "nbformat": 4,
 "nbformat_minor": 5
}
